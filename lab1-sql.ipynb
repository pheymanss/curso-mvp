{
 "cells": [
  {
   "cell_type": "markdown",
   "id": "e974c8c6",
   "metadata": {},
   "source": [
    "# Laboratorio 1: SQL para Científicos de Datos - Práctica\n",
    "\n",
    "## Objetivo del Laboratorio\n",
    "En este laboratorio se pondrán en práctica los conceptos fundamentales de SQL presentados en el módulo teórico. Se trabajará con una base de datos de ejemplo que simula un sistema de e-commerce, reflejando estructuras de datos comunes en entornos empresariales.\n",
    "\n",
    "## Competencias a desarrollar\n",
    "- Consultas básicas con SELECT y FROM\n",
    "- Filtrado de datos con WHERE y operadores lógicos\n",
    "- Agregación y agrupación de datos para generar métricas\n",
    "- Combinación de tablas con JOIN para análisis multidimensional\n",
    "- Uso de alias para mejorar la legibilidad del código\n",
    "\n",
    "El dominio de estas competencias resulta fundamental para el trabajo profesional en ciencia de datos."
   ]
  },
  {
   "cell_type": "markdown",
   "id": "bc7c1a9d",
   "metadata": {},
   "source": [
    "## 1. Setup: Conexión a Base de Datos y Datos de Ejemplo\n",
    "\n",
    "En esta sección se importarán las librerías necesarias y se creará una base de datos \"en memoria\" con datos de ejemplo que simula un sistema de e-commerce típico"
   ]
  },
  {
   "cell_type": "code",
   "execution_count": null,
   "id": "90882f1b",
   "metadata": {},
   "outputs": [],
   "source": [
    "# Importar librerías necesarias\n",
    "import sqlite3\n",
    "import pandas as pd\n",
    "import numpy as np\n",
    "from datetime import datetime, date\n",
    "\n",
    "# Crear conexión a base de datos en memoria\n",
    "conn = sqlite3.connect(':memory:')\n",
    "cursor = conn.cursor()\n",
    "\n",
    "print(\"✅ Base de datos SQLite creada en memoria\")\n",
    "print(\"✅ Librerías importadas correctamente\")"
   ]
  },
  {
   "cell_type": "code",
   "execution_count": null,
   "id": "f5db5a66",
   "metadata": {},
   "outputs": [],
   "source": [
    "# Crear tabla de clientes\n",
    "cursor.execute('''\n",
    "CREATE TABLE clientes (\n",
    "    id INTEGER PRIMARY KEY,\n",
    "    nombre TEXT NOT NULL,\n",
    "    email TEXT,\n",
    "    telefono TEXT,\n",
    "    pais TEXT NOT NULL\n",
    ")\n",
    "''')\n",
    "\n",
    "# Insertar datos de ejemplo en clientes\n",
    "clientes_data = [\n",
    "    (1, 'Juan Pérez', 'juan@email.com', '555-0001', 'México'),\n",
    "    (2, 'María García', 'maria@email.com', None, 'España'),\n",
    "    (3, 'Carlos López', 'carlos@email.com', '555-0003', 'México'),\n",
    "    (4, 'Ana Martínez', 'ana@email.com', '555-0004', 'Argentina'),\n",
    "    (5, 'Luis González', 'luis@email.com', None, 'México'),\n",
    "    (6, 'Sofia Rodríguez', 'sofia@email.com', '555-0006', 'Colombia'),\n",
    "    (7, 'Pedro Sánchez', 'pedro@email.com', '555-0007', 'España'),\n",
    "    (8, 'Laura Hernández', 'laura@email.com', None, 'México')\n",
    "]\n",
    "\n",
    "cursor.executemany('INSERT INTO clientes VALUES (?, ?, ?, ?, ?)', clientes_data)\n",
    "print(\"✅ Tabla 'clientes' creada con 8 registros\")"
   ]
  },
  {
   "cell_type": "code",
   "execution_count": null,
   "id": "f777c123",
   "metadata": {},
   "outputs": [],
   "source": [
    "# Crear tabla de productos\n",
    "cursor.execute('''\n",
    "CREATE TABLE productos (\n",
    "    id INTEGER PRIMARY KEY,\n",
    "    nombre_producto TEXT NOT NULL,\n",
    "    precio DECIMAL(10,2) NOT NULL,\n",
    "    categoria TEXT NOT NULL\n",
    ")\n",
    "''')\n",
    "\n",
    "# Insertar datos de ejemplo en productos\n",
    "productos_data = [\n",
    "    (1, 'Laptop Dell', 999.99, 'Electrónicos'),\n",
    "    (2, 'iPhone 13', 799.99, 'Electrónicos'),\n",
    "    (3, 'Escritorio de Madera', 299.99, 'Muebles'),\n",
    "    (4, 'Silla Ergonómica', 199.99, 'Muebles'),\n",
    "    (5, 'Camiseta Nike', 29.99, 'Ropa'),\n",
    "    (6, 'Jeans Levis', 79.99, 'Ropa'),\n",
    "    (7, 'Libro Python', 39.99, 'Libros'),\n",
    "    (8, 'Audífonos Sony', 149.99, 'Electrónicos'),\n",
    "    (9, 'Mesa de Centro', 159.99, 'Muebles'),\n",
    "    (10, 'Zapatos Adidas', 89.99, 'Ropa')\n",
    "]\n",
    "\n",
    "cursor.executemany('INSERT INTO productos VALUES (?, ?, ?, ?)', productos_data)\n",
    "print(\"✅ Tabla 'productos' creada con 10 registros\")"
   ]
  },
  {
   "cell_type": "code",
   "execution_count": null,
   "id": "0801e45d",
   "metadata": {},
   "outputs": [],
   "source": [
    "# Crear tabla de órdenes\n",
    "cursor.execute('''\n",
    "CREATE TABLE ordenes (\n",
    "    id INTEGER PRIMARY KEY,\n",
    "    cliente_id INTEGER,\n",
    "    fecha DATE NOT NULL,\n",
    "    total DECIMAL(10,2) NOT NULL,\n",
    "    FOREIGN KEY (cliente_id) REFERENCES clientes(id)\n",
    ")\n",
    "''')\n",
    "\n",
    "# Insertar datos de ejemplo en órdenes\n",
    "ordenes_data = [\n",
    "    (1, 1, '2023-01-15', 999.99),\n",
    "    (2, 1, '2023-02-20', 149.99),\n",
    "    (3, 3, '2023-01-28', 329.98),\n",
    "    (4, 4, '2023-03-10', 119.98),\n",
    "    (5, 6, '2023-02-14', 799.99),\n",
    "    (6, 3, '2023-03-25', 89.99),\n",
    "    (7, 1, '2023-04-02', 39.99),\n",
    "    (8, 7, '2023-01-05', 599.98),\n",
    "    (9, 4, '2023-05-15', 79.99),\n",
    "    (10, 6, '2023-03-30', 199.99)\n",
    "]\n",
    "\n",
    "cursor.executemany('INSERT INTO ordenes VALUES (?, ?, ?, ?)', ordenes_data)\n",
    "print(\"✅ Tabla 'ordenes' creada con 10 registros\")"
   ]
  },
  {
   "cell_type": "code",
   "execution_count": null,
   "id": "bea42192",
   "metadata": {},
   "outputs": [],
   "source": [
    "# Crear tabla de empleados\n",
    "cursor.execute('''\n",
    "CREATE TABLE empleados (\n",
    "    id INTEGER PRIMARY KEY,\n",
    "    nombre TEXT NOT NULL,\n",
    "    salario DECIMAL(10,2) NOT NULL,\n",
    "    departamento TEXT NOT NULL\n",
    ")\n",
    "''')\n",
    "\n",
    "# Insertar datos de ejemplo en empleados\n",
    "empleados_data = [\n",
    "    (1, 'Ana Directora', 95000.00, 'Gerencia'),\n",
    "    (2, 'Carlos Ventas', 45000.00, 'Ventas'),\n",
    "    (3, 'María Tech', 75000.00, 'Tecnología'),\n",
    "    (4, 'Juan Marketing', 50000.00, 'Marketing'),\n",
    "    (5, 'Sofia Senior', 85000.00, 'Tecnología'),\n",
    "    (6, 'Pedro Junior', 35000.00, 'Ventas'),\n",
    "    (7, 'Laura Manager', 65000.00, 'Marketing')\n",
    "]\n",
    "\n",
    "cursor.executemany('INSERT INTO empleados VALUES (?, ?, ?, ?)', empleados_data)\n",
    "\n",
    "# Confirmar todos los cambios\n",
    "conn.commit()\n",
    "print(\"✅ Tabla 'empleados' creada con 7 registros\")\n",
    "print(\"✅ Todas las tablas han sido creadas exitosamente\")"
   ]
  },
  {
   "cell_type": "markdown",
   "id": "d96ab18b",
   "metadata": {},
   "source": [
    "## 2. Consultas Básicas: SELECT y FROM\n",
    "\n",
    "En esta sección se explorarán las consultas fundamentales de SQL, base de toda extracción de datos en sistemas empresariales."
   ]
  },
  {
   "cell_type": "markdown",
   "id": "539a1e73",
   "metadata": {},
   "source": [
    "### 🎯 Ejercicio 1: Análisis de Catálogo de Productos\n",
    "\n",
    "**Contexto empresarial:** El equipo de marketing requiere analizar el catálogo de productos para una próxima campaña publicitaria. Necesitan una lista que muestre únicamente los nombres y precios de todos los productos.\n",
    "\n",
    "**Instrucción:** Completa la consulta SQL para extraer esta información."
   ]
  },
  {
   "cell_type": "code",
   "execution_count": null,
   "id": "fd2b5774",
   "metadata": {},
   "outputs": [],
   "source": [
    "# COMPLETAR LA CONSULTA AQUÍ:\n",
    "# query1 = \"SELECT _____, _____ FROM _____;\"\n",
    "\n",
    "# Descomenta y completa la línea anterior, luego ejecuta:\n",
    "# resultado = pd.read_sql_query(query1, conn)\n",
    "# print(resultado)"
   ]
  },
  {
   "cell_type": "markdown",
   "id": "aff844b8",
   "metadata": {},
   "source": [
    "### 🎯 Ejercicio 2: Auditoría de Transacciones\n",
    "\n",
    "**Contexto empresarial:** El departamento de auditoría necesita realizar una verificación rápida de las transacciones sin sobrecargar el sistema. Requieren ver solo las primeras 5 órdenes para validar la estructura de datos.\n",
    "\n",
    "**Instrucción:** Completa la consulta SQL para mostrar esta muestra."
   ]
  },
  {
   "cell_type": "code",
   "execution_count": null,
   "id": "6a01c38f",
   "metadata": {},
   "outputs": [],
   "source": [
    "# COMPLETAR LA CONSULTA AQUÍ:\n",
    "# query2 = \"SELECT * FROM _____ LIMIT _____;\"\n",
    "\n",
    "# Descomenta y completa la línea anterior, luego ejecuta:\n",
    "# resultado = pd.read_sql_query(query2, conn)\n",
    "# print(resultado)"
   ]
  },
  {
   "cell_type": "markdown",
   "id": "6105f5b5",
   "metadata": {},
   "source": [
    "## 3. Filtrado de Datos con WHERE\n",
    "\n",
    "En esta sección se aplicarán técnicas de filtrado esenciales para el análisis segmentado en contextos empresariales."
   ]
  },
  {
   "cell_type": "markdown",
   "id": "ad40634b",
   "metadata": {},
   "source": [
    "### 🎯 Ejercicio 3: Segmentación de Mercado\n",
    "\n",
    "**Contexto empresarial:** La empresa planea lanzar una campaña de marketing específica para el mercado mexicano. El equipo comercial necesita una lista completa de todos los clientes ubicados en México para dimensionar la audiencia.\n",
    "\n",
    "**Instrucción:** Completa la consulta SQL para filtrar clientes por país."
   ]
  },
  {
   "cell_type": "code",
   "execution_count": null,
   "id": "3084fc1b",
   "metadata": {},
   "outputs": [],
   "source": [
    "# COMPLETAR LA CONSULTA AQUÍ:\n",
    "# query3 = \"SELECT * FROM _____ WHERE _____ = '_____';\"\n",
    "\n",
    "# Descomenta y completa la línea anterior, luego ejecuta:\n",
    "# resultado = pd.read_sql_query(query3, conn)\n",
    "# print(resultado)"
   ]
  },
  {
   "cell_type": "markdown",
   "id": "3e0d6616",
   "metadata": {},
   "source": [
    "### 🎯 Ejercicio 4: Análisis de Transacciones Premium Q1\n",
    "\n",
    "**Contexto empresarial:** El director financiero requiere un reporte de todas las transacciones de alto valor (superiores a $500) que ocurrieron durante el primer trimestre de 2023 para evaluar el performance de productos premium.\n",
    "\n",
    "**Instrucción:** Completa la consulta SQL usando condiciones múltiples."
   ]
  },
  {
   "cell_type": "code",
   "execution_count": null,
   "id": "2ed8ceaa",
   "metadata": {},
   "outputs": [],
   "source": [
    "# COMPLETAR LA CONSULTA AQUÍ:\n",
    "# query4 = \"\"\"\n",
    "# SELECT * FROM _____ \n",
    "# WHERE _____ BETWEEN '_____' AND '_____' \n",
    "#   AND _____ > _____;\n",
    "# \"\"\"\n",
    "\n",
    "# Descomenta y completa las líneas anteriores, luego ejecuta:\n",
    "# resultado = pd.read_sql_query(query4, conn)\n",
    "# print(resultado)"
   ]
  },
  {
   "cell_type": "markdown",
   "id": "3545ea2d",
   "metadata": {},
   "source": [
    "### 🎯 Ejercicio 5: Control de Calidad de Datos\n",
    "\n",
    "**Contexto empresarial:** El área de CRM detectó que algunos clientes no tienen información de contacto telefónico completa. Se requiere identificar todos los registros con números de teléfono faltantes para una campaña de actualización.\n",
    "\n",
    "**Instrucción:** Completa la consulta SQL para encontrar valores nulos."
   ]
  },
  {
   "cell_type": "code",
   "execution_count": null,
   "id": "f429aafe",
   "metadata": {},
   "outputs": [],
   "source": [
    "# COMPLETAR LA CONSULTA AQUÍ:\n",
    "# query5 = \"SELECT * FROM _____ WHERE _____ IS _____;\"\n",
    "\n",
    "# Descomenta y completa la línea anterior, luego ejecuta:\n",
    "# resultado = pd.read_sql_query(query5, conn)\n",
    "# print(resultado)"
   ]
  },
  {
   "cell_type": "markdown",
   "id": "f426d037",
   "metadata": {},
   "source": [
    "### 🎯 Ejercicio 6: Benchmarking Salarial\n",
    "\n",
    "**Contexto empresarial:** Recursos Humanos está realizando un estudio de compensación para asegurar la retención de los empleados mejor remunerados. Necesitan identificar a los 5 empleados con los salarios más altos.\n",
    "\n",
    "**Instrucción:** Completa la consulta SQL con ordenamiento y limitación."
   ]
  },
  {
   "cell_type": "code",
   "execution_count": null,
   "id": "f07bd559",
   "metadata": {},
   "outputs": [],
   "source": [
    "# COMPLETAR LA CONSULTA AQUÍ:\n",
    "# query6 = \"SELECT * FROM _____ ORDER BY _____ _____ LIMIT _____;\"\n",
    "\n",
    "# Descomenta y completa la línea anterior, luego ejecuta:\n",
    "# resultado = pd.read_sql_query(query6, conn)\n",
    "# print(resultado)"
   ]
  },
  {
   "cell_type": "markdown",
   "id": "aeff3c6f",
   "metadata": {},
   "source": [
    "### 🎯 Ejercicio 7: Estrategia de Expansión Internacional\n",
    "\n",
    "**Contexto empresarial:** El comité ejecutivo está evaluando oportunidades de expansión internacional. Requieren saber cuántos países diferentes representan actualmente en la base de clientes para el análisis estratégico.\n",
    "\n",
    "**Instrucción:** Completa la consulta SQL para contar valores únicos."
   ]
  },
  {
   "cell_type": "code",
   "execution_count": null,
   "id": "4c3ccd8d",
   "metadata": {},
   "outputs": [],
   "source": [
    "# COMPLETAR LA CONSULTA AQUÍ:\n",
    "# query7 = \"SELECT COUNT(_____ _____) as paises_unicos FROM _____;\"\n",
    "\n",
    "# Descomenta y completa la línea anterior, luego ejecuta:\n",
    "# resultado = pd.read_sql_query(query7, conn)\n",
    "# print(resultado)\n",
    "\n",
    "# También se pueden examinar cuáles son esos países:\n",
    "# query7b = \"SELECT _____ _____ FROM _____;\"\n",
    "# resultado_paises = pd.read_sql_query(query7b, conn)\n",
    "# print(resultado_paises)"
   ]
  },
  {
   "cell_type": "markdown",
   "id": "be9b8b91",
   "metadata": {},
   "source": [
    "### 🎯 Ejercicio 8: KPIs del Negocio\n",
    "\n",
    "**Contexto empresarial:** La gerencia requiere un dashboard con métricas clave del negocio: total de órdenes, ingresos totales, ticket promedio, transacción máxima y mínima para el reporte mensual a la junta directiva.\n",
    "\n",
    "**Instrucción:** Completa la consulta SQL con múltiples funciones de agregación."
   ]
  },
  {
   "cell_type": "code",
   "execution_count": null,
   "id": "e1987089",
   "metadata": {},
   "outputs": [],
   "source": [
    "# COMPLETAR LA CONSULTA AQUÍ:\n",
    "# query8 = \"\"\"\n",
    "# SELECT \n",
    "#     _____(*) as total_ordenes,\n",
    "#     _____(total) as ingresos_totales,\n",
    "#     _____(total) as promedio_orden,\n",
    "#     _____(total) as orden_maxima,\n",
    "#     _____(total) as orden_minima\n",
    "# FROM _____;\n",
    "# \"\"\"\n",
    "\n",
    "# Descomenta y completa las líneas anteriores, luego ejecuta:\n",
    "# resultado = pd.read_sql_query(query8, conn)\n",
    "# print(resultado)"
   ]
  },
  {
   "cell_type": "markdown",
   "id": "2db4f521",
   "metadata": {},
   "source": [
    "### 🎯 Ejercicio 9: Análisis de Posicionamiento de Precios\n",
    "\n",
    "**Contexto empresarial:** El equipo de pricing necesita evaluar la estrategia de precios actual. Requieren el precio promedio de productos por cada categoría para identificar oportunidades de optimización de márgenes.\n",
    "\n",
    "**Instrucción:** Completa la consulta SQL con agrupación de datos."
   ]
  },
  {
   "cell_type": "code",
   "execution_count": null,
   "id": "80b4b034",
   "metadata": {},
   "outputs": [],
   "source": [
    "# COMPLETAR LA CONSULTA AQUÍ:\n",
    "# query9 = \"SELECT _____, _____(precio) as precio_promedio FROM _____ GROUP BY _____;\"\n",
    "\n",
    "# Descomenta y completa la línea anterior, luego ejecuta:\n",
    "# resultado = pd.read_sql_query(query9, conn)\n",
    "# print(resultado)"
   ]
  },
  {
   "cell_type": "markdown",
   "id": "2a52350c",
   "metadata": {},
   "source": [
    "### 🎯 Ejercicio 11: Reporte Integrado de Ventas\n",
    "\n",
    "**Contexto empresarial:** El área comercial requiere un reporte que combine información de las órdenes con los datos del cliente. Necesitan ver el ID de cada orden junto con el nombre del cliente, fecha y monto de la transacción.\n",
    "\n",
    "**Instrucción:** Completa la consulta SQL usando INNER JOIN."
   ]
  },
  {
   "cell_type": "code",
   "execution_count": null,
   "id": "01204e1a",
   "metadata": {},
   "outputs": [],
   "source": [
    "# COMPLETAR LA CONSULTA AQUÍ:\n",
    "# query11 = \"\"\"\n",
    "# SELECT ordenes.id as orden_id, clientes._____, ordenes._____, ordenes._____\n",
    "# FROM _____ \n",
    "# _____ JOIN _____ ON ordenes._____ = clientes._____;\n",
    "# \"\"\"\n",
    "\n",
    "# Descomenta y completa las líneas anteriores, luego ejecuta:\n",
    "# resultado = pd.read_sql_query(query11, conn)\n",
    "# print(resultado)\n",
    "# print(f\"\\n📊 Total de registros devueltos: {len(resultado)}\")\n",
    "# print(\"💡 INNER JOIN muestra únicamente órdenes con cliente asociado.\")"
   ]
  },
  {
   "cell_type": "markdown",
   "id": "ae8b5aec",
   "metadata": {},
   "source": [
    "### 🎯 Ejercicio 12: Evaluación de Actividad de Clientes\n",
    "\n",
    "**Contexto empresarial:** La gerencia de CRM necesita un análisis completo que muestre TODOS los clientes y sus órdenes (cuando las tengan) para identificar tanto clientes activos como oportunidades de reactivación.\n",
    "\n",
    "**Instrucción:** Completa la consulta SQL usando LEFT JOIN."
   ]
  },
  {
   "cell_type": "code",
   "execution_count": null,
   "id": "d7a99a36",
   "metadata": {},
   "outputs": [],
   "source": [
    "# COMPLETAR LA CONSULTA AQUÍ:\n",
    "# query12 = \"\"\"\n",
    "# SELECT clientes._____, clientes._____, ordenes.id as orden_id, ordenes._____\n",
    "# FROM _____ \n",
    "# _____ JOIN _____ ON clientes._____ = ordenes._____\n",
    "# ORDER BY clientes._____;\n",
    "# \"\"\"\n",
    "\n",
    "# Descomenta y completa las líneas anteriores, luego ejecuta:\n",
    "# resultado = pd.read_sql_query(query12, conn)\n",
    "# print(resultado)\n",
    "# print(f\"\\n📊 Total de registros devueltos: {len(resultado)}\")\n",
    "# print(\"💡 LEFT JOIN preserva todos los clientes, mostrando activos e inactivos.\")"
   ]
  },
  {
   "cell_type": "markdown",
   "id": "fa1e334b",
   "metadata": {},
   "source": [
    "### 🎯 Ejercicio 13: Campaña de Reactivación de Clientes\n",
    "\n",
    "**Contexto empresarial:** El departamento de marketing digital planea una campaña específica para reactivar clientes que nunca han realizado compras. Necesitan una lista con nombre, email y país de estos clientes potenciales.\n",
    "\n",
    "**Instrucción:** Completa la consulta SQL combinando LEFT JOIN con filtrado de nulos."
   ]
  },
  {
   "cell_type": "code",
   "execution_count": null,
   "id": "12cadee4",
   "metadata": {},
   "outputs": [],
   "source": [
    "# COMPLETAR LA CONSULTA AQUÍ:\n",
    "# query13 = \"\"\"\n",
    "# SELECT clientes._____, clientes._____, clientes._____\n",
    "# FROM _____ \n",
    "# LEFT JOIN _____ ON clientes._____ = ordenes._____\n",
    "# WHERE ordenes._____ IS _____;\n",
    "# \"\"\"\n",
    "\n",
    "# Descomenta y completa las líneas anteriores, luego ejecuta:\n",
    "# resultado = pd.read_sql_query(query13, conn)\n",
    "# print(resultado)\n",
    "# print(f\"\\n📊 Clientes sin órdenes: {len(resultado)}\")\n",
    "# print(\"💡 Target ideal para campañas de activación y first purchase.\")"
   ]
  },
  {
   "cell_type": "markdown",
   "id": "9c000536",
   "metadata": {},
   "source": [
    "### 🎯 Ejercicio 14: Reporte Ejecutivo de Customer Analytics\n",
    "\n",
    "**Contexto empresarial:** El CEO requiere un dashboard con métricas consolidadas por cliente: nombre, email, país, total de órdenes, gasto total, ticket promedio y fecha de última compra, ordenado por valor del cliente.\n",
    "\n",
    "**Instrucción:** Completa la consulta SQL compleja usando alias, JOIN, GROUP BY y ORDER BY."
   ]
  },
  {
   "cell_type": "code",
   "execution_count": null,
   "id": "f1f18049",
   "metadata": {},
   "outputs": [],
   "source": [
    "# COMPLETAR LA CONSULTA AQUÍ:\n",
    "# query14 = \"\"\"\n",
    "# SELECT \n",
    "#     c._____ AS nombre_cliente,\n",
    "#     c._____ AS email_cliente,\n",
    "#     c._____ AS pais_origen,\n",
    "#     _____(o.id) AS total_ordenes,\n",
    "#     _____(o.total) AS total_gastado,\n",
    "#     _____(o.total) AS promedio_por_orden,\n",
    "#     _____(o.fecha) AS ultima_compra\n",
    "# FROM _____ AS c\n",
    "# LEFT JOIN _____ AS o ON c._____ = o._____\n",
    "# GROUP BY c._____, c._____, c._____, c._____\n",
    "# ORDER BY _____ _____;\n",
    "# \"\"\"\n",
    "\n",
    "# Descomenta y completa las líneas anteriores, luego ejecuta:\n",
    "# resultado = pd.read_sql_query(query14, conn)\n",
    "# print(resultado)\n",
    "# print(\"\\n💡 Ventajas de usar alias en consultas profesionales:\")\n",
    "# print(\"   • Reduce verbosidad del código\")\n",
    "# print(\"   • Mejora legibilidad en consultas complejas\") \n",
    "# print(\"   • Facilita mantenimiento de reportes empresariales\")"
   ]
  },
  {
   "cell_type": "markdown",
   "id": "1e96442d",
   "metadata": {},
   "source": [
    "## 4. Agregación y Agrupación de Datos\n",
    "\n",
    "Las funciones de agregación permiten obtener resúmenes estadísticos fundamentales para la generación de KPIs y métricas empresariales."
   ]
  },
  {
   "cell_type": "code",
   "execution_count": null,
   "id": "5541141b",
   "metadata": {},
   "outputs": [],
   "source": [
    "# Ejercicio 10: Clientes con múltiples órdenes (HAVING)\n",
    "# Caso empresarial: Identificar clientes que han realizado más de 1 orden (clientes recurrentes)\n",
    "\n",
    "query10 = \"\"\"\n",
    "SELECT cliente_id, COUNT(*) as total_ordenes\n",
    "FROM ordenes \n",
    "GROUP BY cliente_id \n",
    "HAVING COUNT(*) > 1;\n",
    "\"\"\"\n",
    "resultado = pd.read_sql_query(query10, conn)\n",
    "print(resultado)"
   ]
  },
  {
   "cell_type": "markdown",
   "id": "e3287503",
   "metadata": {},
   "source": [
    "## 5. Relaciones entre Tablas: Llaves Primarias y Foráneas\n",
    "\n",
    "Antes de explorar los JOINs, se examina la estructura relacional que caracteriza las bases de datos empresariales modernas."
   ]
  },
  {
   "cell_type": "code",
   "execution_count": null,
   "id": "8958e2b3",
   "metadata": {},
   "outputs": [],
   "source": [
    "# Examinar la estructura de nuestras tablas y sus relaciones\n",
    "print(\"📋 Estructura de las tablas y sus relaciones:\\n\")\n",
    "\n",
    "print(\"🔑 Tabla CLIENTES:\")\n",
    "print(\"  - Llave Primaria: id\")\n",
    "print(\"  - Columnas: id, nombre, email, telefono, pais\")\n",
    "\n",
    "print(\"\\n🔑 Tabla PRODUCTOS:\")\n",
    "print(\"  - Llave Primaria: id\")  \n",
    "print(\"  - Columnas: id, nombre_producto, precio, categoria\")\n",
    "\n",
    "print(\"\\n🔑 Tabla ORDENES:\")\n",
    "print(\"  - Llave Primaria: id\")\n",
    "print(\"  - Llave Foránea: cliente_id → clientes.id\")\n",
    "print(\"  - Columnas: id, cliente_id, fecha, total\")\n",
    "\n",
    "print(\"\\n🔑 Tabla EMPLEADOS:\")\n",
    "print(\"  - Llave Primaria: id\")\n",
    "print(\"  - Columnas: id, nombre, salario, departamento\")\n",
    "\n",
    "print(\"\\n🔗 RELACIONES:\")\n",
    "print(\"   clientes (1) ←→ (muchos) ordenes\")\n",
    "print(\"   ↑                    ↑\")\n",
    "print(\"   id ←─────────── cliente_id\")"
   ]
  },
  {
   "cell_type": "markdown",
   "id": "bb5f4a35",
   "metadata": {},
   "source": [
    "## 6. INNER JOIN: Combinando Tablas Relacionadas\n",
    "\n",
    "INNER JOIN devuelve únicamente los registros que tienen coincidencias en ambas tablas, técnica fundamental para análisis que requieren integridad referencial."
   ]
  },
  {
   "cell_type": "markdown",
   "id": "bc583fba",
   "metadata": {},
   "source": [
    "## 7. LEFT JOIN: Incluyendo Registros Sin Coincidencias\n",
    "\n",
    "LEFT JOIN devuelve todos los registros de la tabla izquierda, incluso sin coincidencias en la tabla derecha. Esta técnica es esencial para análisis de completitud y detección de oportunidades."
   ]
  },
  {
   "cell_type": "markdown",
   "id": "d14760a7",
   "metadata": {},
   "source": [
    "## 8. Uso de Alias con AS: Mejorando la Legibilidad\n",
    "\n",
    "Los alias constituyen una práctica estándar en el desarrollo de consultas SQL para entornos de producción, mejorando la mantenibilidad del código."
   ]
  },
  {
   "cell_type": "markdown",
   "id": "02320e73",
   "metadata": {},
   "source": [
    "## 🎯 Ejercicios de Práctica Adicional\n",
    "\n",
    "Los siguientes ejercicios permiten consolidar los conceptos aprendidos mediante casos de aplicación empresarial. Las soluciones se presentan en las celdas subsiguientes."
   ]
  },
  {
   "cell_type": "code",
   "execution_count": null,
   "id": "752f8db1",
   "metadata": {},
   "outputs": [],
   "source": [
    "# 🏋️‍♂️ EJERCICIOS ADICIONALES PARA PRÁCTICA INDEPENDIENTE:\n",
    "print(\"💪 Los siguientes retos permiten aplicar múltiples conceptos simultáneamente.\")\n",
    "print(\"Cada ejercicio representa un caso empresarial complejo.\\n\")\n",
    "\n",
    "print(\"📝 Ejercicio A: Análisis de segmento premium\")\n",
    "print(\"   Contexto: Marketing requiere identificar productos electrónicos de lujo\")\n",
    "print(\"   Tarea: Encontrar productos de categoría 'Electrónicos' con precio > $500\")\n",
    "print(\"   Completa: SELECT * FROM _____ WHERE _____ = '____' AND _____ > ____;\")\n",
    "print()\n",
    "\n",
    "print(\"📝 Ejercicio B: Estudio de compensación departamental\")\n",
    "print(\"   Contexto: RRHH evalúa equidad salarial entre departamentos\")\n",
    "print(\"   Tarea: Calcular salario promedio por departamento\") \n",
    "print(\"   Completa: SELECT _____, _____(salario) FROM _____ GROUP BY _____;\")\n",
    "print()\n",
    "\n",
    "print(\"📝 Ejercicio C: Programa VIP para clientes mexicanos\")\n",
    "print(\"   Contexto: Lanzamiento de programa exclusivo para high-value customers de México\")\n",
    "print(\"   Tarea: Clientes de México con gasto total > $1000\")\n",
    "print(\"   Completa: SELECT c._____, SUM(o._____) FROM _____ c JOIN _____ o\")\n",
    "print(\"            ON c._____ = o._____ WHERE c._____ = '____'\")\n",
    "print(\"            GROUP BY c._____ HAVING SUM(o._____) > _____;\")\n",
    "print()\n",
    "\n",
    "print(\"📝 Ejercicio D: Identificación de top performers\")\n",
    "print(\"   Contexto: Bonificación para empleados sobre el promedio general\")\n",
    "print(\"   Tarea: Empleados con salario superior al promedio de la empresa\")\n",
    "print(\"   Completa: SELECT _____ FROM _____ WHERE _____ > (SELECT _____(____) FROM _____);\")\n",
    "print()\n",
    "\n",
    "print(\"📝 Ejercicio E: Análisis de mercados geográficos\")\n",
    "print(\"   Contexto: Evaluación de performance por región para asignación de presupuesto\")\n",
    "print(\"   Tarea: Total de ventas y número de órdenes por país\")\n",
    "print(\"   Completa: SELECT c._____, SUM(o._____), COUNT(o._____)\")\n",
    "print(\"            FROM _____ c JOIN _____ o ON c._____ = o._____\")\n",
    "print(\"            GROUP BY c._____ ORDER BY SUM(o._____) _____;\")\n",
    "\n",
    "print(\"\\n\" + \"=\"*60)\n",
    "print(\"✏️  COMPLETA LOS EJERCICIOS EN LAS CELDAS SIGUIENTES:\")\n",
    "print(\"=\"*60)"
   ]
  },
  {
   "cell_type": "code",
   "execution_count": null,
   "id": "c4d0f1a0",
   "metadata": {},
   "outputs": [],
   "source": [
    "# 📚 SECCIÓN DE SOLUCIONES PARA VERIFICACIÓN\n",
    "\n",
    "print(\"✅ SOLUCIONES DE LOS EJERCICIOS PRINCIPALES:\\n\")\n",
    "\n",
    "print(\"\udd11 Ejercicio 1 - Análisis de Catálogo:\")\n",
    "print(\"query1 = \\\"SELECT nombre_producto, precio FROM productos;\\\"\")\n",
    "print()\n",
    "\n",
    "print(\"\udd11 Ejercicio 2 - Auditoría de Transacciones:\")\n",
    "print(\"query2 = \\\"SELECT * FROM ordenes LIMIT 5;\\\"\")\n",
    "print()\n",
    "\n",
    "print(\"🔑 Ejercicio 3 - Segmentación Geográfica:\")\n",
    "print(\"query3 = \\\"SELECT * FROM clientes WHERE pais = 'México';\\\"\")\n",
    "print()\n",
    "\n",
    "print(\"\udd11 Ejercicio 4 - Análisis Premium Q1:\")\n",
    "print(\"query4 = \\\"\\\"\\\"\")\n",
    "print(\"SELECT * FROM ordenes\")\n",
    "print(\"WHERE fecha BETWEEN '2023-01-01' AND '2023-03-31'\")\n",
    "print(\"  AND total > 500;\")\n",
    "print(\"\\\"\\\"\\\"\")\n",
    "print()\n",
    "\n",
    "print(\"🔑 Ejercicio 5 - Control de Calidad:\")\n",
    "print(\"query5 = \\\"SELECT * FROM clientes WHERE telefono IS NULL;\\\"\")\n",
    "print()\n",
    "\n",
    "print(\"\udd11 Ejercicio 6 - Benchmarking Salarial:\")\n",
    "print(\"query6 = \\\"SELECT * FROM empleados ORDER BY salario DESC LIMIT 5;\\\"\")\n",
    "print()\n",
    "\n",
    "print(\"🔑 Ejercicio 7 - Expansión Internacional:\")\n",
    "print(\"query7 = \\\"SELECT COUNT(DISTINCT pais) as paises_unicos FROM clientes;\\\"\")\n",
    "print(\"query7b = \\\"SELECT DISTINCT pais FROM clientes;\\\"\")\n",
    "print()\n",
    "\n",
    "print(\"\udd11 Ejercicio 8 - KPIs del Negocio:\")\n",
    "print(\"query8 = \\\"\\\"\\\"\")\n",
    "print(\"SELECT\")\n",
    "print(\"    COUNT(*) as total_ordenes,\")\n",
    "print(\"    SUM(total) as ingresos_totales,\")\n",
    "print(\"    AVG(total) as promedio_orden,\")\n",
    "print(\"    MAX(total) as orden_maxima,\")\n",
    "print(\"    MIN(total) as orden_minima\")\n",
    "print(\"FROM ordenes;\")\n",
    "print(\"\\\"\\\"\\\"\")\n",
    "print()\n",
    "\n",
    "print(\"🔑 Ejercicio 9 - Posicionamiento de Precios:\")\n",
    "print(\"query9 = \\\"SELECT categoria, AVG(precio) as precio_promedio FROM productos GROUP BY categoria;\\\"\")\n",
    "print()\n",
    "\n",
    "print(\"\\n\" + \"=\"*60)\n",
    "print(\"Para ver las soluciones de los ejercicios de JOIN, continúa a la siguiente celda...\")\n",
    "print(\"=\"*60)"
   ]
  },
  {
   "cell_type": "code",
   "execution_count": null,
   "id": "13fb8a78",
   "metadata": {},
   "outputs": [],
   "source": [
    "# 📚 SOLUCIONES DE EJERCICIOS AVANZADOS (JOIN y Ejercicios Adicionales)\n",
    "\n",
    "print(\"✅ SOLUCIONES DE EJERCICIOS DE JOIN:\\n\")\n",
    "\n",
    "print(\"🔑 Ejercicio 11 - Reporte Integrado de Ventas:\")\n",
    "print(\"query11 = \\\"\\\"\\\"\")\n",
    "print(\"SELECT ordenes.id as orden_id, clientes.nombre, ordenes.fecha, ordenes.total\")\n",
    "print(\"FROM ordenes\")\n",
    "print(\"INNER JOIN clientes ON ordenes.cliente_id = clientes.id;\")\n",
    "print(\"\\\"\\\"\\\"\")\n",
    "print()\n",
    "\n",
    "print(\"🔑 Ejercicio 12 - Evaluación de Actividad de Clientes:\")\n",
    "print(\"query12 = \\\"\\\"\\\"\")\n",
    "print(\"SELECT clientes.nombre, clientes.pais, ordenes.id as orden_id, ordenes.total\")\n",
    "print(\"FROM clientes\")\n",
    "print(\"LEFT JOIN ordenes ON clientes.id = ordenes.cliente_id\")\n",
    "print(\"ORDER BY clientes.nombre;\")\n",
    "print(\"\\\"\\\"\\\"\")\n",
    "print()\n",
    "\n",
    "print(\"🔑 Ejercicio 13 - Campaña de Reactivación:\")\n",
    "print(\"query13 = \\\"\\\"\\\"\")\n",
    "print(\"SELECT clientes.nombre, clientes.email, clientes.pais\")\n",
    "print(\"FROM clientes\")\n",
    "print(\"LEFT JOIN ordenes ON clientes.id = ordenes.cliente_id\")\n",
    "print(\"WHERE ordenes.id IS NULL;\")\n",
    "print(\"\\\"\\\"\\\"\")\n",
    "print()\n",
    "\n",
    "print(\"🔑 Ejercicio 14 - Dashboard Ejecutivo:\")\n",
    "print(\"query14 = \\\"\\\"\\\"\")\n",
    "print(\"SELECT\")\n",
    "print(\"    c.nombre AS nombre_cliente,\")\n",
    "print(\"    c.email AS email_cliente,\")\n",
    "print(\"    c.pais AS pais_origen,\")\n",
    "print(\"    COUNT(o.id) AS total_ordenes,\")\n",
    "print(\"    SUM(o.total) AS total_gastado,\")\n",
    "print(\"    AVG(o.total) AS promedio_por_orden,\")\n",
    "print(\"    MAX(o.fecha) AS ultima_compra\")\n",
    "print(\"FROM clientes AS c\")\n",
    "print(\"LEFT JOIN ordenes AS o ON c.id = o.cliente_id\")\n",
    "print(\"GROUP BY c.id, c.nombre, c.email, c.pais\")\n",
    "print(\"ORDER BY total_gastado DESC;\")\n",
    "print(\"\\\"\\\"\\\"\")\n",
    "print()\n",
    "\n",
    "print(\"\\n✅ SOLUCIONES DE EJERCICIOS ADICIONALES:\\n\")\n",
    "\n",
    "print(\"🔑 Ejercicio A - Productos Premium:\")\n",
    "print(\"SELECT * FROM productos WHERE categoria = 'Electrónicos' AND precio > 500;\")\n",
    "print()\n",
    "\n",
    "print(\"🔑 Ejercicio B - Compensación Departamental:\")\n",
    "print(\"SELECT departamento, AVG(salario) FROM empleados GROUP BY departamento;\")\n",
    "print()\n",
    "\n",
    "print(\"🔑 Ejercicio C - Programa VIP México:\")\n",
    "print(\"SELECT c.nombre, SUM(o.total) FROM clientes c JOIN ordenes o\")\n",
    "print(\"ON c.id = o.cliente_id WHERE c.pais = 'México'\")\n",
    "print(\"GROUP BY c.id HAVING SUM(o.total) > 1000;\")\n",
    "print()\n",
    "\n",
    "print(\"🔑 Ejercicio D - Top Performers:\")\n",
    "print(\"SELECT nombre FROM empleados WHERE salario > (SELECT AVG(salario) FROM empleados);\")\n",
    "print()\n",
    "\n",
    "print(\"🔑 Ejercicio E - Mercados Geográficos:\")\n",
    "print(\"SELECT c.pais, SUM(o.total), COUNT(o.id)\")\n",
    "print(\"FROM clientes c JOIN ordenes o ON c.id = o.cliente_id\")\n",
    "print(\"GROUP BY c.pais ORDER BY SUM(o.total) DESC;\")"
   ]
  },
  {
   "cell_type": "markdown",
   "id": "82a1d2e2",
   "metadata": {},
   "source": [
    "## 🎉 Competencias Adquiridas\n",
    "\n",
    "Se han completado exitosamente los ejercicios fundamentales de SQL para ciencia de datos. \n",
    "\n",
    "### 📚 Competencias desarrolladas:\n",
    "- ✅ Consultas básicas con `SELECT` y `FROM` para extracción de datos\n",
    "- ✅ Filtrado avanzado con `WHERE`, `AND`, `OR`, `BETWEEN` para segmentación\n",
    "- ✅ Manejo profesional de valores nulos con `IS NULL` / `IS NOT NULL`\n",
    "- ✅ Ordenamiento y limitación con `ORDER BY` y `LIMIT` para análisis eficiente\n",
    "- ✅ Funciones de agregación: `COUNT`, `SUM`, `AVG`, `MAX`, `MIN` para métricas KPI\n",
    "- ✅ Agrupación de datos con `GROUP BY` para análisis categórico\n",
    "- ✅ Filtrado de grupos con `HAVING` para análisis de cohortes\n",
    "- ✅ Combinación de tablas con `INNER JOIN` y `LEFT JOIN` para análisis multidimensional\n",
    "- ✅ Uso de alias con `AS` para desarrollo de código mantenible\n",
    "\n",
    "### 🚀 Relevancia profesional:\n",
    "Estas competencias constituyen la base fundamental para:\n",
    "1. **Análisis de datos empresariales**: Extracción y transformación de información de sistemas transaccionales\n",
    "2. **Desarrollo de KPIs**: Creación de métricas para monitoreo del negocio\n",
    "3. **Preparación de datos**: Limpieza y estructuración para modelos de machine learning\n",
    "4. **Reportería analítica**: Generación de insights para toma de decisiones estratégicas\n",
    "\n",
    "### 💡 Siguientes pasos recomendados:\n",
    "1. **Aplicación práctica**: Implementación en datasets reales del dominio profesional\n",
    "2. **Técnicas avanzadas**: Subconsultas, CTEs, funciones de ventana para análisis sofisticados\n",
    "3. **Optimización**: Técnicas de performance para grandes volúmenes de datos\n",
    "4. **Integración**: Conexión con herramientas de ciencia de datos (Python, R, herramientas de BI)\n",
    "\n",
    "El dominio de SQL representa una competencia diferenciadora en el mercado laboral de ciencia de datos y análisis empresarial.\n",
    "\n",
    "---\n",
    "*La práctica constante y la aplicación en casos reales consolidarán estas competencias para uso profesional.*"
   ]
  },
  {
   "cell_type": "code",
   "execution_count": null,
   "id": "f2ab99d0",
   "metadata": {},
   "outputs": [],
   "source": [
    "# Cerrar la conexión a la base de datos\n",
    "conn.close()\n",
    "print(\"🔒 Conexión a la base de datos cerrada correctamente.\")\n",
    "print(\"\udcda Laboratorio de SQL completado exitosamente.\")"
   ]
  }
 ],
 "metadata": {
  "kernelspec": {
   "display_name": "Python 3",
   "language": "python",
   "name": "python3"
  },
  "language_info": {
   "name": "python",
   "version": "3.13.7"
  }
 },
 "nbformat": 4,
 "nbformat_minor": 5
}
